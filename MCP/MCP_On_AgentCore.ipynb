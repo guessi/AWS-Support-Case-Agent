{
 "cells": [
  {
   "cell_type": "code",
   "execution_count": 21,
   "id": "549294b8-fc7b-4300-8552-922cff53227e",
   "metadata": {
    "execution": {
     "iopub.execute_input": "2025-08-28T10:12:19.979082Z",
     "iopub.status.busy": "2025-08-28T10:12:19.978806Z",
     "iopub.status.idle": "2025-08-28T10:12:59.314860Z",
     "shell.execute_reply": "2025-08-28T10:12:59.314169Z",
     "shell.execute_reply.started": "2025-08-28T10:12:19.979058Z"
    }
   },
   "outputs": [
    {
     "name": "stdout",
     "output_type": "stream",
     "text": [
      "\u001b[33m  WARNING: Retrying (Retry(total=4, connect=None, read=None, redirect=None, status=None)) after connection broken by 'ProtocolError('Connection aborted.', RemoteDisconnected('Remote end closed connection without response'))': /packages/f4/24/2a3e3df732393fed8b3ebf2ec078f05546de641fe1b667ee316ec1dcf3b7/webencodings-0.5.1-py2.py3-none-any.whl.metadata\u001b[0m\u001b[33m\n",
      "\u001b[0m\u001b[31mERROR: pip's dependency resolver does not currently take into account all the packages that are installed. This behaviour is the source of the following dependency conflicts.\n",
      "autogluon-multimodal 1.4.0 requires nvidia-ml-py3<8.0,>=7.352.0, which is not installed.\n",
      "dash 2.18.1 requires dash-core-components==2.0.0, which is not installed.\n",
      "dash 2.18.1 requires dash-html-components==2.0.0, which is not installed.\n",
      "dash 2.18.1 requires dash-table==5.0.0, which is not installed.\n",
      "jupyter-ai 2.31.6 requires faiss-cpu!=1.8.0.post0,<2.0.0,>=1.8.0, which is not installed.\n",
      "aiobotocore 2.21.1 requires botocore<1.37.2,>=1.37.0, but you have botocore 1.40.19 which is incompatible.\n",
      "autogluon-multimodal 1.4.0 requires jsonschema<4.24,>=4.18, but you have jsonschema 4.25.1 which is incompatible.\n",
      "autogluon-multimodal 1.4.0 requires transformers[sentencepiece]<4.50,>=4.38.0, but you have transformers 4.55.2 which is incompatible.\n",
      "autogluon-timeseries 1.4.0 requires transformers[sentencepiece]<4.50,>=4.38.0, but you have transformers 4.55.2 which is incompatible.\n",
      "dash 2.18.1 requires Flask<3.1,>=1.0.4, but you have flask 3.1.1 which is incompatible.\n",
      "dash 2.18.1 requires Werkzeug<3.1, but you have werkzeug 3.1.1 which is incompatible.\n",
      "flake8 7.1.2 requires pycodestyle<2.13.0,>=2.12.0, but you have pycodestyle 2.14.0 which is incompatible.\n",
      "mlflow 2.22.0 requires packaging<25, but you have packaging 25.0 which is incompatible.\n",
      "mlflow-skinny 2.22.0 requires packaging<25, but you have packaging 25.0 which is incompatible.\n",
      "sagemaker 2.245.0 requires attrs<24,>=23.1.0, but you have attrs 25.3.0 which is incompatible.\n",
      "sagemaker 2.245.0 requires importlib-metadata<7.0,>=1.4.0, but you have importlib-metadata 8.7.0 which is incompatible.\n",
      "sagemaker 2.245.0 requires packaging<25,>=23.0, but you have packaging 25.0 which is incompatible.\n",
      "sagemaker-studio-analytics-extension 0.2.0 requires sparkmagic==0.22.0, but you have sparkmagic 0.21.0 which is incompatible.\n",
      "sparkmagic 0.21.0 requires pandas<2.0.0,>=0.17.1, but you have pandas 2.3.1 which is incompatible.\n",
      "thinc 8.3.6 requires numpy<3.0.0,>=2.0.0, but you have numpy 1.26.4 which is incompatible.\u001b[0m\u001b[31m\n",
      "\u001b[0m"
     ]
    }
   ],
   "source": [
    "!pip install --force-reinstall -U -r requirements.txt --quiet"
   ]
  },
  {
   "cell_type": "code",
   "execution_count": 2,
   "id": "61815663-09be-4828-b799-9abeb207d593",
   "metadata": {
    "execution": {
     "iopub.execute_input": "2025-08-28T09:23:56.992134Z",
     "iopub.status.busy": "2025-08-28T09:23:56.991879Z",
     "iopub.status.idle": "2025-08-28T09:23:57.113620Z",
     "shell.execute_reply": "2025-08-28T09:23:57.113058Z",
     "shell.execute_reply.started": "2025-08-28T09:23:56.992111Z"
    }
   },
   "outputs": [],
   "source": [
    "from utils import setup_cognito_user_pool"
   ]
  },
  {
   "cell_type": "markdown",
   "id": "5c8d37ea-a1f8-4134-918d-a2f9491af282",
   "metadata": {},
   "source": [
    "# setup cognito for authentication"
   ]
  },
  {
   "cell_type": "code",
   "execution_count": 3,
   "id": "d32b8cf8-5088-4b8d-883c-f2c3248dfccc",
   "metadata": {
    "execution": {
     "iopub.execute_input": "2025-08-28T09:24:26.505814Z",
     "iopub.status.busy": "2025-08-28T09:24:26.505434Z",
     "iopub.status.idle": "2025-08-28T09:24:29.311166Z",
     "shell.execute_reply": "2025-08-28T09:24:29.310519Z",
     "shell.execute_reply.started": "2025-08-28T09:24:26.505791Z"
    }
   },
   "outputs": [
    {
     "name": "stdout",
     "output_type": "stream",
     "text": [
      "Setting up Amazon Cognito user pool...\n",
      "Pool id: us-west-2_jQsMayVcr\n",
      "Discovery URL: https://cognito-idp.us-west-2.amazonaws.com/us-west-2_jQsMayVcr/.well-known/openid-configuration\n",
      "Client ID: 552tnn4svdahqmk0e9utkbreaa\n",
      "Bearer Token: eyJraWQiOiJuZGZwVjhHc0VVVkZHNWJrU1E0XC9hWHJBVngyUTREeEtYbDN6Rk5EY002Zz0iLCJhbGciOiJSUzI1NiJ9.eyJzdWIiOiI3ODkxZDMyMC03MGMxLTcwZjUtYWU3Ny1kMDQ4NGVlMTAzNDEiLCJpc3MiOiJodHRwczpcL1wvY29nbml0by1pZHAudXMtd2VzdC0yLmFtYXpvbmF3cy5jb21cL3VzLXdlc3QtMl9qUXNNYXlWY3IiLCJjbGllbnRfaWQiOiI1NTJ0bm40c3ZkYWhxbWswZTl1dGticmVhYSIsIm9yaWdpbl9qdGkiOiJiYmVjM2ExOS1jMTViLTQ1ZjMtYmE0Zi0yZjhjZmYyZTg1MzkiLCJldmVudF9pZCI6IjY5NThjY2ViLWU1NTktNDc2OC1iMDI2LWU3MWRkYzViYTNjZCIsInRva2VuX3VzZSI6ImFjY2VzcyIsInNjb3BlIjoiYXdzLmNvZ25pdG8uc2lnbmluLnVzZXIuYWRtaW4iLCJhdXRoX3RpbWUiOjE3NTYzNzMwNjksImV4cCI6MTc1NjM3NjY2OSwiaWF0IjoxNzU2MzczMDY5LCJqdGkiOiJhYWY5OGQwZS02MDQ2LTQ5ZDQtYjZlOC1kZDMzZjAwZjBjYmQiLCJ1c2VybmFtZSI6InRlc3R1c2VyIn0.QDyOAvg2sQLS0RbJB5R565ZJ52pMhrBFrYrR4tccnJ9aljm_yQ3a6dUqOfogQpp71w5o3_2K2iHvHzunXcTnLXMePMSTKNku6xV_qogrfzQuq1gPkqV4I-iJNC2VEfdzbF-o9zXehme-X1p_wG99OozusOQbboACeJxoH8SbEAlDsfovlZw_RCpaN6-Q8TmCreHthRYqSNhayNQrB7l460Sw7ONZThKQDbEjE3D7inVNl6MI6ua15mFJ9AN2eKFC1K8ZGL2Gu8V6Uq2nodELiGlcrKHYwme3tFA1sRymzMDduxqPf4IgutD26An76xyxfl1ImHBGJGl3VuSY7LcRSQ\n",
      "UserName: testuser\n",
      "Password: MyPassword123!\n",
      "Cognito setup completed ✓\n",
      "{'pool_id': 'us-west-2_jQsMayVcr', 'client_id': '552tnn4svdahqmk0e9utkbreaa', 'bearer_token': 'eyJraWQiOiJuZGZwVjhHc0VVVkZHNWJrU1E0XC9hWHJBVngyUTREeEtYbDN6Rk5EY002Zz0iLCJhbGciOiJSUzI1NiJ9.eyJzdWIiOiI3ODkxZDMyMC03MGMxLTcwZjUtYWU3Ny1kMDQ4NGVlMTAzNDEiLCJpc3MiOiJodHRwczpcL1wvY29nbml0by1pZHAudXMtd2VzdC0yLmFtYXpvbmF3cy5jb21cL3VzLXdlc3QtMl9qUXNNYXlWY3IiLCJjbGllbnRfaWQiOiI1NTJ0bm40c3ZkYWhxbWswZTl1dGticmVhYSIsIm9yaWdpbl9qdGkiOiJiYmVjM2ExOS1jMTViLTQ1ZjMtYmE0Zi0yZjhjZmYyZTg1MzkiLCJldmVudF9pZCI6IjY5NThjY2ViLWU1NTktNDc2OC1iMDI2LWU3MWRkYzViYTNjZCIsInRva2VuX3VzZSI6ImFjY2VzcyIsInNjb3BlIjoiYXdzLmNvZ25pdG8uc2lnbmluLnVzZXIuYWRtaW4iLCJhdXRoX3RpbWUiOjE3NTYzNzMwNjksImV4cCI6MTc1NjM3NjY2OSwiaWF0IjoxNzU2MzczMDY5LCJqdGkiOiJhYWY5OGQwZS02MDQ2LTQ5ZDQtYjZlOC1kZDMzZjAwZjBjYmQiLCJ1c2VybmFtZSI6InRlc3R1c2VyIn0.QDyOAvg2sQLS0RbJB5R565ZJ52pMhrBFrYrR4tccnJ9aljm_yQ3a6dUqOfogQpp71w5o3_2K2iHvHzunXcTnLXMePMSTKNku6xV_qogrfzQuq1gPkqV4I-iJNC2VEfdzbF-o9zXehme-X1p_wG99OozusOQbboACeJxoH8SbEAlDsfovlZw_RCpaN6-Q8TmCreHthRYqSNhayNQrB7l460Sw7ONZThKQDbEjE3D7inVNl6MI6ua15mFJ9AN2eKFC1K8ZGL2Gu8V6Uq2nodELiGlcrKHYwme3tFA1sRymzMDduxqPf4IgutD26An76xyxfl1ImHBGJGl3VuSY7LcRSQ', 'discovery_url': 'https://cognito-idp.us-west-2.amazonaws.com/us-west-2_jQsMayVcr/.well-known/openid-configuration', 'AuthParameters': {'USERNAME': 'testuser', 'PASSWORD': 'MyPassword123!'}}\n"
     ]
    }
   ],
   "source": [
    "print(\"Setting up Amazon Cognito user pool...\")\n",
    "cognito_config = setup_cognito_user_pool()\n",
    "print(\"Cognito setup completed ✓\")\n",
    "print(cognito_config)"
   ]
  },
  {
   "cell_type": "markdown",
   "id": "e974750d-2bcf-4ad4-a408-f624033c97fa",
   "metadata": {},
   "source": [
    "# config agentcore runtime hosting MCP server"
   ]
  },
  {
   "cell_type": "code",
   "execution_count": 5,
   "id": "fb1b97fc-45ba-4f0e-891f-04a8b83c01f8",
   "metadata": {
    "execution": {
     "iopub.execute_input": "2025-08-28T09:25:42.316326Z",
     "iopub.status.busy": "2025-08-28T09:25:42.316064Z",
     "iopub.status.idle": "2025-08-28T09:25:42.404359Z",
     "shell.execute_reply": "2025-08-28T09:25:42.403773Z",
     "shell.execute_reply.started": "2025-08-28T09:25:42.316305Z"
    }
   },
   "outputs": [
    {
     "name": "stderr",
     "output_type": "stream",
     "text": [
      "Entrypoint parsed: file=/home/sagemaker-user/AgentCore-Prod/AWS-Support-MCP/MCP/awslabs/aws_support_mcp_server/server.py, bedrock_agentcore_name=server\n",
      "Configuring BedrockAgentCore agent: awssupportmcpserver\n"
     ]
    },
    {
     "name": "stdout",
     "output_type": "stream",
     "text": [
      "Using AWS region: us-west-2\n",
      "{'awslabs/aws_support_mcp_server/server.py'}\n",
      "{'requirements.txt'}\n",
      "All required files found ✓\n",
      "Configuring AgentCore Runtime...\n"
     ]
    },
    {
     "data": {
      "text/html": [
       "<pre style=\"white-space:pre;overflow-x:auto;line-height:normal;font-family:Menlo,'DejaVu Sans Mono',consolas,'Courier New',monospace\">\n",
       "<span style=\"color: #808000; text-decoration-color: #808000; font-weight: bold; text-decoration: underline\">⚠️  ℹ️  No container engine found (Docker/Finch/Podman not installed)</span>\n",
       "<span style=\"color: #808000; text-decoration-color: #808000; font-weight: bold; text-decoration: underline\">✅ Default deployment uses CodeBuild (no container engine needed)</span>\n",
       "<span style=\"color: #808000; text-decoration-color: #808000; font-weight: bold; text-decoration: underline\">💡 Run </span><span style=\"color: #008000; text-decoration-color: #008000; text-decoration: underline\">'agentcore launch'</span><span style=\"color: #808000; text-decoration-color: #808000; font-weight: bold; text-decoration: underline\"> for cloud-based building and deployment</span>\n",
       "<span style=\"color: #808000; text-decoration-color: #808000; font-weight: bold; text-decoration: underline\">💡 For local builds, install Docker, Finch, or Podman</span>\n",
       "</pre>\n"
      ],
      "text/plain": [
       "\n",
       "\u001b[1;4;33m⚠️  ℹ️  No container engine found \u001b[0m\u001b[1;4;33m(\u001b[0m\u001b[1;4;33mDocker/Finch/Podman not installed\u001b[0m\u001b[1;4;33m)\u001b[0m\n",
       "\u001b[1;4;33m✅ Default deployment uses CodeBuild \u001b[0m\u001b[1;4;33m(\u001b[0m\u001b[1;4;33mno container engine needed\u001b[0m\u001b[1;4;33m)\u001b[0m\n",
       "\u001b[1;4;33m💡 Run \u001b[0m\u001b[4;32m'agentcore launch'\u001b[0m\u001b[1;4;33m for cloud-based building and deployment\u001b[0m\n",
       "\u001b[1;4;33m💡 For local builds, install Docker, Finch, or Podman\u001b[0m\n"
      ]
     },
     "metadata": {},
     "output_type": "display_data"
    },
    {
     "data": {
      "text/html": [
       "<pre style=\"white-space:pre;overflow-x:auto;line-height:normal;font-family:Menlo,'DejaVu Sans Mono',consolas,'Courier New',monospace\">\n",
       "<span style=\"color: #808000; text-decoration-color: #808000; font-weight: bold; text-decoration: underline\">⚠️  [WARNING] Platform mismatch: Current system is </span><span style=\"color: #008000; text-decoration-color: #008000; text-decoration: underline\">'linux/amd64'</span><span style=\"color: #808000; text-decoration-color: #808000; font-weight: bold; text-decoration: underline\"> but Bedrock AgentCore requires </span><span style=\"color: #008000; text-decoration-color: #008000; text-decoration: underline\">'linux/arm64'</span><span style=\"color: #808000; text-decoration-color: #808000; font-weight: bold; text-decoration: underline\">.</span>\n",
       "<span style=\"color: #808000; text-decoration-color: #808000; font-weight: bold; text-decoration: underline\">For deployment options and workarounds, see: </span>\n",
       "<span style=\"color: #0000ff; text-decoration-color: #0000ff; text-decoration: underline\">https://docs.aws.amazon.com/bedrock-agentcore/latest/devguide/getting-started-custom.html</span>\n",
       "\n",
       "</pre>\n"
      ],
      "text/plain": [
       "\n",
       "\u001b[1;4;33m⚠️  \u001b[0m\u001b[1;4;33m[\u001b[0m\u001b[1;4;33mWARNING\u001b[0m\u001b[1;4;33m]\u001b[0m\u001b[1;4;33m Platform mismatch: Current system is \u001b[0m\u001b[4;32m'linux/amd64'\u001b[0m\u001b[1;4;33m but Bedrock AgentCore requires \u001b[0m\u001b[4;32m'linux/arm64'\u001b[0m\u001b[1;4;33m.\u001b[0m\n",
       "\u001b[1;4;33mFor deployment options and workarounds, see: \u001b[0m\n",
       "\u001b[4;94mhttps://docs.aws.amazon.com/bedrock-agentcore/latest/devguide/getting-started-custom.html\u001b[0m\n",
       "\n"
      ]
     },
     "metadata": {},
     "output_type": "display_data"
    },
    {
     "name": "stderr",
     "output_type": "stream",
     "text": [
      "Generated .dockerignore\n",
      "Generated Dockerfile: /home/sagemaker-user/AgentCore-Prod/AWS-Support-MCP/MCP/Dockerfile\n",
      "Generated .dockerignore: /home/sagemaker-user/AgentCore-Prod/AWS-Support-MCP/MCP/.dockerignore\n",
      "Setting 'awssupportmcpserver' as default agent\n",
      "Bedrock AgentCore configured: /home/sagemaker-user/AgentCore-Prod/AWS-Support-MCP/MCP/.bedrock_agentcore.yaml\n"
     ]
    },
    {
     "name": "stdout",
     "output_type": "stream",
     "text": [
      "Configuration completed ✓\n"
     ]
    }
   ],
   "source": [
    "from bedrock_agentcore_starter_toolkit import Runtime\n",
    "from boto3.session import Session\n",
    "import time\n",
    "import os\n",
    "\n",
    "boto_session = Session()\n",
    "region = boto_session.region_name\n",
    "print(f\"Using AWS region: {region}\")\n",
    "\n",
    "required_files = ['awslabs/aws_support_mcp_server/server.py', 'requirements.txt']\n",
    "for file in required_files:\n",
    "    print({file})\n",
    "    if not os.path.exists(file):\n",
    "        raise FileNotFoundError(f\"Required file {file} not found\")\n",
    "print(\"All required files found ✓\")\n",
    "\n",
    "agentcore_runtime = Runtime()\n",
    "\n",
    "auth_config = {\n",
    "    \"customJWTAuthorizer\": {\n",
    "        \"allowedClients\": [\n",
    "            cognito_config['client_id']\n",
    "        ],\n",
    "        \"discoveryUrl\": cognito_config['discovery_url'],\n",
    "    }\n",
    "}\n",
    "\n",
    "print(\"Configuring AgentCore Runtime...\")\n",
    "response = agentcore_runtime.configure(\n",
    "    entrypoint=\"awslabs/aws_support_mcp_server/server.py\",\n",
    "    auto_create_execution_role=True,\n",
    "    auto_create_ecr=True,\n",
    "    requirements_file=\"requirements.txt\",\n",
    "    region=region,\n",
    "    authorizer_configuration=auth_config,\n",
    "    protocol=\"MCP\",\n",
    "    agent_name=\"awssupportmcpserver\"\n",
    ")\n",
    "print(\"Configuration completed ✓\")"
   ]
  },
  {
   "cell_type": "markdown",
   "id": "440c3a7c-25a5-4a71-a1c9-d062b767c10c",
   "metadata": {},
   "source": [
    "# create agentcore runtime"
   ]
  },
  {
   "cell_type": "code",
   "execution_count": 6,
   "id": "ad94ffae-36f2-48ea-b9f6-df11ee0d0832",
   "metadata": {
    "execution": {
     "iopub.execute_input": "2025-08-28T09:25:50.804570Z",
     "iopub.status.busy": "2025-08-28T09:25:50.804314Z",
     "iopub.status.idle": "2025-08-28T09:27:26.892611Z",
     "shell.execute_reply": "2025-08-28T09:27:26.892101Z",
     "shell.execute_reply.started": "2025-08-28T09:25:50.804551Z"
    }
   },
   "outputs": [
    {
     "name": "stderr",
     "output_type": "stream",
     "text": [
      "🚀 CodeBuild mode: building in cloud (RECOMMENDED - DEFAULT)\n",
      "   • Build ARM64 containers in the cloud with CodeBuild\n",
      "   • No local Docker required\n",
      "💡 Available deployment modes:\n",
      "   • runtime.launch()                           → CodeBuild (current)\n",
      "   • runtime.launch(local=True)                 → Local development\n",
      "   • runtime.launch(local_build=True)           → Local build + cloud deploy (NEW)\n",
      "Starting CodeBuild ARM64 deployment for agent 'awssupportmcpserver' to account 887221633712 (us-west-2)\n",
      "Starting CodeBuild ARM64 deployment for agent 'awssupportmcpserver' to account 887221633712 (us-west-2)\n",
      "Setting up AWS resources (ECR repository, execution roles)...\n",
      "Getting or creating ECR repository for agent: awssupportmcpserver\n"
     ]
    },
    {
     "name": "stdout",
     "output_type": "stream",
     "text": [
      "Launching MCP server to AgentCore Runtime...\n",
      "This may take several minutes...\n",
      "Repository doesn't exist, creating new ECR repository: bedrock-agentcore-awssupportmcpserver\n"
     ]
    },
    {
     "name": "stderr",
     "output_type": "stream",
     "text": [
      "✅ ECR repository available: 887221633712.dkr.ecr.us-west-2.amazonaws.com/bedrock-agentcore-awssupportmcpserver\n",
      "Getting or creating execution role for agent: awssupportmcpserver\n",
      "Using AWS region: us-west-2, account ID: 887221633712\n",
      "Role name: AmazonBedrockAgentCoreSDKRuntime-us-west-2-de689bc2c1\n",
      "Role doesn't exist, creating new execution role: AmazonBedrockAgentCoreSDKRuntime-us-west-2-de689bc2c1\n",
      "Starting execution role creation process for agent: awssupportmcpserver\n",
      "✓ Role creating: AmazonBedrockAgentCoreSDKRuntime-us-west-2-de689bc2c1\n",
      "Creating IAM role: AmazonBedrockAgentCoreSDKRuntime-us-west-2-de689bc2c1\n",
      "✓ Role created: arn:aws:iam::887221633712:role/AmazonBedrockAgentCoreSDKRuntime-us-west-2-de689bc2c1\n",
      "✓ Execution policy attached: BedrockAgentCoreRuntimeExecutionPolicy-awssupportmcpserver\n",
      "Role creation complete and ready for use with Bedrock AgentCore\n",
      "✅ Execution role available: arn:aws:iam::887221633712:role/AmazonBedrockAgentCoreSDKRuntime-us-west-2-de689bc2c1\n",
      "Preparing CodeBuild project and uploading source...\n",
      "Getting or creating CodeBuild execution role for agent: awssupportmcpserver\n",
      "Role name: AmazonBedrockAgentCoreSDKCodeBuild-us-west-2-de689bc2c1\n",
      "CodeBuild role doesn't exist, creating new role: AmazonBedrockAgentCoreSDKCodeBuild-us-west-2-de689bc2c1\n",
      "Creating IAM role: AmazonBedrockAgentCoreSDKCodeBuild-us-west-2-de689bc2c1\n",
      "✓ Role created: arn:aws:iam::887221633712:role/AmazonBedrockAgentCoreSDKCodeBuild-us-west-2-de689bc2c1\n",
      "Attaching inline policy: CodeBuildExecutionPolicy to role: AmazonBedrockAgentCoreSDKCodeBuild-us-west-2-de689bc2c1\n",
      "✓ Policy attached: CodeBuildExecutionPolicy\n",
      "Waiting for IAM role propagation...\n",
      "CodeBuild execution role creation complete: arn:aws:iam::887221633712:role/AmazonBedrockAgentCoreSDKCodeBuild-us-west-2-de689bc2c1\n",
      "Using .dockerignore with 44 patterns\n",
      "Uploaded source to S3: awssupportmcpserver/20250828-092607.zip\n",
      "Created CodeBuild project: bedrock-agentcore-awssupportmcpserver-builder\n",
      "Starting CodeBuild build (this may take several minutes)...\n",
      "Starting CodeBuild monitoring...\n",
      "🔄 QUEUED started (total: 0s)\n",
      "✅ QUEUED completed in 5.0s\n",
      "🔄 PROVISIONING started (total: 5s)\n",
      "✅ PROVISIONING completed in 5.0s\n",
      "🔄 DOWNLOAD_SOURCE started (total: 10s)\n",
      "✅ DOWNLOAD_SOURCE completed in 5.0s\n",
      "🔄 PRE_BUILD started (total: 15s)\n",
      "✅ PRE_BUILD completed in 5.0s\n",
      "🔄 BUILD started (total: 20s)\n",
      "✅ BUILD completed in 45.3s\n",
      "🔄 POST_BUILD started (total: 66s)\n",
      "✅ POST_BUILD completed in 5.0s\n",
      "🔄 COMPLETED started (total: 71s)\n",
      "✅ COMPLETED completed in 5.0s\n",
      "🎉 CodeBuild completed successfully in 1m 15s\n",
      "CodeBuild completed successfully\n",
      "✅ CodeBuild project configuration saved\n",
      "Deploying to Bedrock AgentCore...\n",
      "✅ Agent created/updated: arn:aws:bedrock-agentcore:us-west-2:887221633712:runtime/awssupportmcpserver-7ESps168I4\n",
      "Polling for endpoint to be ready...\n",
      "Agent endpoint: arn:aws:bedrock-agentcore:us-west-2:887221633712:runtime/awssupportmcpserver-7ESps168I4/runtime-endpoint/DEFAULT\n",
      "Deployment completed successfully - Agent: arn:aws:bedrock-agentcore:us-west-2:887221633712:runtime/awssupportmcpserver-7ESps168I4\n",
      "Built with CodeBuild: bedrock-agentcore-awssupportmcpserver-builder:0d77fd48-ea5d-46d0-923b-22f12fd8a877\n",
      "Deployed to cloud: arn:aws:bedrock-agentcore:us-west-2:887221633712:runtime/awssupportmcpserver-7ESps168I4\n",
      "ECR image: 887221633712.dkr.ecr.us-west-2.amazonaws.com/bedrock-agentcore-awssupportmcpserver\n",
      "🔍 Agent logs available at:\n",
      "   /aws/bedrock-agentcore/runtimes/awssupportmcpserver-7ESps168I4-DEFAULT\n",
      "   /aws/bedrock-agentcore/runtimes/awssupportmcpserver-7ESps168I4-DEFAULT/runtime-logs\n",
      "💡 Tail logs with: aws logs tail /aws/bedrock-agentcore/runtimes/awssupportmcpserver-7ESps168I4-DEFAULT --follow\n",
      "💡 Or view recent logs: aws logs tail /aws/bedrock-agentcore/runtimes/awssupportmcpserver-7ESps168I4-DEFAULT --since 1h\n"
     ]
    },
    {
     "name": "stdout",
     "output_type": "stream",
     "text": [
      "Launch completed ✓\n",
      "Agent ARN: arn:aws:bedrock-agentcore:us-west-2:887221633712:runtime/awssupportmcpserver-7ESps168I4\n",
      "Agent ID: awssupportmcpserver-7ESps168I4\n"
     ]
    }
   ],
   "source": [
    "print(\"Launching MCP server to AgentCore Runtime...\")\n",
    "print(\"This may take several minutes...\")\n",
    "launch_result = agentcore_runtime.launch()\n",
    "print(\"Launch completed ✓\")\n",
    "print(f\"Agent ARN: {launch_result.agent_arn}\")\n",
    "print(f\"Agent ID: {launch_result.agent_id}\")"
   ]
  },
  {
   "cell_type": "markdown",
   "id": "e0fc513d-c309-407b-88b8-f9f8c8f61393",
   "metadata": {},
   "source": [
    "# check agentcore runtime status"
   ]
  },
  {
   "cell_type": "code",
   "execution_count": 7,
   "id": "e02814dc-7ed8-4dca-911d-d95e0c3f854e",
   "metadata": {
    "execution": {
     "iopub.execute_input": "2025-08-28T09:27:42.543117Z",
     "iopub.status.busy": "2025-08-28T09:27:42.542850Z",
     "iopub.status.idle": "2025-08-28T09:27:43.153544Z",
     "shell.execute_reply": "2025-08-28T09:27:43.153032Z",
     "shell.execute_reply.started": "2025-08-28T09:27:42.543096Z"
    }
   },
   "outputs": [
    {
     "name": "stdout",
     "output_type": "stream",
     "text": [
      "Checking AgentCore Runtime status...\n"
     ]
    },
    {
     "name": "stderr",
     "output_type": "stream",
     "text": [
      "Retrieved Bedrock AgentCore status for: awssupportmcpserver\n"
     ]
    },
    {
     "name": "stdout",
     "output_type": "stream",
     "text": [
      "Initial status: READY\n",
      "✓ AgentCore Runtime is READY!\n",
      "Final status: READY\n"
     ]
    }
   ],
   "source": [
    "print(\"Checking AgentCore Runtime status...\")\n",
    "status_response = agentcore_runtime.status()\n",
    "status = status_response.endpoint['status']\n",
    "print(f\"Initial status: {status}\")\n",
    "\n",
    "end_status = ['READY', 'CREATE_FAILED', 'DELETE_FAILED', 'UPDATE_FAILED']\n",
    "while status not in end_status:\n",
    "    print(f\"Status: {status} - waiting...\")\n",
    "    time.sleep(10)\n",
    "    status_response = agentcore_runtime.status()\n",
    "    status = status_response.endpoint['status']\n",
    "\n",
    "if status == 'READY':\n",
    "    print(\"✓ AgentCore Runtime is READY!\")\n",
    "else:\n",
    "    print(f\"⚠ AgentCore Runtime status: {status}\")\n",
    "    \n",
    "print(f\"Final status: {status}\")"
   ]
  },
  {
   "cell_type": "markdown",
   "id": "9b0b83af-6b1b-4990-a1de-c67eb355335c",
   "metadata": {},
   "source": [
    "# upload data to secret and ssm"
   ]
  },
  {
   "cell_type": "code",
   "execution_count": 14,
   "id": "6441e51d-f784-4360-bedb-01a4ea62e7a6",
   "metadata": {
    "execution": {
     "iopub.execute_input": "2025-08-28T10:03:44.466708Z",
     "iopub.status.busy": "2025-08-28T10:03:44.466453Z",
     "iopub.status.idle": "2025-08-28T10:03:44.700330Z",
     "shell.execute_reply": "2025-08-28T10:03:44.699652Z",
     "shell.execute_reply.started": "2025-08-28T10:03:44.466688Z"
    }
   },
   "outputs": [
    {
     "name": "stdout",
     "output_type": "stream",
     "text": [
      "✓ Cognito credentials stored in Secrets Manager\n",
      "✓ Agent ARN stored in Parameter Store\n",
      "\n",
      "Configuration stored successfully!\n",
      "Agent ARN: arn:aws:bedrock-agentcore:us-west-2:887221633712:runtime/awssupportmcpserver-7ESps168I4\n"
     ]
    }
   ],
   "source": [
    "import boto3\n",
    "import json\n",
    "\n",
    "ssm_client = boto3.client('ssm', region_name=region)\n",
    "secrets_client = boto3.client('secretsmanager', region_name=region)\n",
    "\n",
    "try:\n",
    "    cognito_credentials_response = secrets_client.create_secret(\n",
    "        Name='support_mcp_server/cognito/credentials',\n",
    "        Description='Cognito credentials for MCP server',\n",
    "        SecretString=json.dumps(cognito_config)\n",
    "    )\n",
    "    print(\"✓ Cognito credentials stored in Secrets Manager\")\n",
    "except secrets_client.exceptions.ResourceExistsException:\n",
    "    secrets_client.update_secret(\n",
    "        SecretId='support_mcp_server/cognito/credentials',\n",
    "        SecretString=json.dumps(cognito_config)\n",
    "    )\n",
    "    print(\"✓ Cognito credentials updated in Secrets Manager\")\n",
    "\n",
    "agent_arn_response = ssm_client.put_parameter(\n",
    "    Name='/support_mcp_server/runtime/agent_arn',\n",
    "    Value=launch_result.agent_arn,\n",
    "    Type='String',\n",
    "    Description='Agent ARN for MCP server',\n",
    "    Overwrite=True\n",
    ")\n",
    "print(\"✓ Agent ARN stored in Parameter Store\")\n",
    "\n",
    "print(\"\\nConfiguration stored successfully!\")\n",
    "print(f\"Agent ARN: {launch_result.agent_arn}\")"
   ]
  },
  {
   "cell_type": "markdown",
   "id": "f2e0d35b-452f-464e-ad2e-880857b74d81",
   "metadata": {},
   "source": [
    "# List MCP tools"
   ]
  },
  {
   "cell_type": "code",
   "execution_count": 15,
   "id": "1c8685c8-5196-4d74-abe0-9a8eb9f09707",
   "metadata": {
    "execution": {
     "iopub.execute_input": "2025-08-28T10:04:48.715117Z",
     "iopub.status.busy": "2025-08-28T10:04:48.714853Z",
     "iopub.status.idle": "2025-08-28T10:04:48.720494Z",
     "shell.execute_reply": "2025-08-28T10:04:48.720048Z",
     "shell.execute_reply.started": "2025-08-28T10:04:48.715097Z"
    }
   },
   "outputs": [
    {
     "name": "stdout",
     "output_type": "stream",
     "text": [
      "Writing my_mcp_client_remote.py\n"
     ]
    }
   ],
   "source": [
    "%%writefile my_mcp_client_remote.py\n",
    "import asyncio\n",
    "import boto3\n",
    "import json\n",
    "import sys\n",
    "from boto3.session import Session\n",
    "from datetime import timedelta\n",
    "\n",
    "from mcp import ClientSession\n",
    "from mcp.client.streamable_http import streamablehttp_client\n",
    "\n",
    "async def main():\n",
    "    boto_session = Session()\n",
    "    region = boto_session.region_name\n",
    "    \n",
    "    print(f\"Using AWS region: {region}\")\n",
    "    \n",
    "    try:\n",
    "        ssm_client = boto3.client('ssm', region_name=region)\n",
    "        agent_arn_response = ssm_client.get_parameter(Name='/support_mcp_server/runtime/agent_arn')\n",
    "        agent_arn = agent_arn_response['Parameter']['Value']\n",
    "        print(f\"Retrieved Agent ARN: {agent_arn}\")\n",
    "\n",
    "        secrets_client = boto3.client('secretsmanager', region_name=region)\n",
    "        response = secrets_client.get_secret_value(SecretId='support_mcp_server/cognito/credentials')\n",
    "        print(response)\n",
    "        secret_value = response['SecretString']\n",
    "        parsed_secret = json.loads(secret_value)\n",
    "        bearer_token = parsed_secret['bearer_token']\n",
    "        print(\"✓ Retrieved bearer token from Secrets Manager\")\n",
    "        \n",
    "    except Exception as e:\n",
    "        print(f\"Error retrieving credentials: {e}\")\n",
    "        sys.exit(1)\n",
    "    \n",
    "    if not agent_arn or not bearer_token:\n",
    "        print(\"Error: AGENT_ARN or BEARER_TOKEN not retrieved properly\")\n",
    "        sys.exit(1)\n",
    "    \n",
    "    encoded_arn = agent_arn.replace(':', '%3A').replace('/', '%2F')\n",
    "    mcp_url = f\"https://bedrock-agentcore.{region}.amazonaws.com/runtimes/{encoded_arn}/invocations?qualifier=DEFAULT\"\n",
    "    headers = {\n",
    "        \"authorization\": f\"Bearer {bearer_token}\",\n",
    "        \"Content-Type\": \"application/json\"\n",
    "    }\n",
    "    \n",
    "    print(f\"\\nConnecting to: {mcp_url}\")\n",
    "    print(\"Headers configured ✓\")\n",
    "\n",
    "    try:\n",
    "        async with streamablehttp_client(mcp_url, headers, timeout=timedelta(seconds=120), terminate_on_close=False) as (\n",
    "            read_stream,\n",
    "            write_stream,\n",
    "            _,\n",
    "        ):\n",
    "            async with ClientSession(read_stream, write_stream) as session:\n",
    "                print(\"\\n🔄 Initializing MCP session...\")\n",
    "                await session.initialize()\n",
    "                print(\"✓ MCP session initialized\")\n",
    "                \n",
    "                print(\"\\n🔄 Listing available tools...\")\n",
    "                tool_result = await session.list_tools()\n",
    "                \n",
    "                print(\"\\n📋 Available MCP Tools:\")\n",
    "                print(\"=\" * 50)\n",
    "                for tool in tool_result.tools:\n",
    "                    print(f\"🔧 {tool.name}\")\n",
    "                    print(f\"   Description: {tool.description}\")\n",
    "                    if hasattr(tool, 'inputSchema') and tool.inputSchema:\n",
    "                        properties = tool.inputSchema.get('properties', {})\n",
    "                        if properties:\n",
    "                            print(f\"   Parameters: {list(properties.keys())}\")\n",
    "                    print()\n",
    "                \n",
    "                print(f\"✅ Successfully connected to MCP server!\")\n",
    "                print(f\"Found {len(tool_result.tools)} tools available.\")\n",
    "                \n",
    "    except Exception as e:\n",
    "        print(f\"❌ Error connecting to MCP server: {e}\")\n",
    "        sys.exit(1)\n",
    "\n",
    "if __name__ == \"__main__\":\n",
    "    asyncio.run(main())"
   ]
  },
  {
   "cell_type": "code",
   "execution_count": 16,
   "id": "fecea4e5-4ed4-4d2a-9572-0e6ff94f677a",
   "metadata": {
    "execution": {
     "iopub.execute_input": "2025-08-28T10:04:52.184839Z",
     "iopub.status.busy": "2025-08-28T10:04:52.184587Z",
     "iopub.status.idle": "2025-08-28T10:04:55.095172Z",
     "shell.execute_reply": "2025-08-28T10:04:55.094439Z",
     "shell.execute_reply.started": "2025-08-28T10:04:52.184821Z"
    }
   },
   "outputs": [
    {
     "name": "stdout",
     "output_type": "stream",
     "text": [
      "Testing deployed MCP server...\n",
      "==================================================\n",
      "Using AWS region: us-west-2\n",
      "Retrieved Agent ARN: arn:aws:bedrock-agentcore:us-west-2:887221633712:runtime/awssupportmcpserver-7ESps168I4\n",
      "{'ARN': 'arn:aws:secretsmanager:us-west-2:887221633712:secret:support_mcp_server/cognito/credentials-hAzPWS', 'Name': 'support_mcp_server/cognito/credentials', 'VersionId': '039db42e-8fb0-4255-8987-85dec5af139d', 'SecretString': '{\"pool_id\": \"us-west-2_jQsMayVcr\", \"client_id\": \"552tnn4svdahqmk0e9utkbreaa\", \"bearer_token\": \"eyJraWQiOiJuZGZwVjhHc0VVVkZHNWJrU1E0XC9hWHJBVngyUTREeEtYbDN6Rk5EY002Zz0iLCJhbGciOiJSUzI1NiJ9.eyJzdWIiOiI3ODkxZDMyMC03MGMxLTcwZjUtYWU3Ny1kMDQ4NGVlMTAzNDEiLCJpc3MiOiJodHRwczpcL1wvY29nbml0by1pZHAudXMtd2VzdC0yLmFtYXpvbmF3cy5jb21cL3VzLXdlc3QtMl9qUXNNYXlWY3IiLCJjbGllbnRfaWQiOiI1NTJ0bm40c3ZkYWhxbWswZTl1dGticmVhYSIsIm9yaWdpbl9qdGkiOiJiYmVjM2ExOS1jMTViLTQ1ZjMtYmE0Zi0yZjhjZmYyZTg1MzkiLCJldmVudF9pZCI6IjY5NThjY2ViLWU1NTktNDc2OC1iMDI2LWU3MWRkYzViYTNjZCIsInRva2VuX3VzZSI6ImFjY2VzcyIsInNjb3BlIjoiYXdzLmNvZ25pdG8uc2lnbmluLnVzZXIuYWRtaW4iLCJhdXRoX3RpbWUiOjE3NTYzNzMwNjksImV4cCI6MTc1NjM3NjY2OSwiaWF0IjoxNzU2MzczMDY5LCJqdGkiOiJhYWY5OGQwZS02MDQ2LTQ5ZDQtYjZlOC1kZDMzZjAwZjBjYmQiLCJ1c2VybmFtZSI6InRlc3R1c2VyIn0.QDyOAvg2sQLS0RbJB5R565ZJ52pMhrBFrYrR4tccnJ9aljm_yQ3a6dUqOfogQpp71w5o3_2K2iHvHzunXcTnLXMePMSTKNku6xV_qogrfzQuq1gPkqV4I-iJNC2VEfdzbF-o9zXehme-X1p_wG99OozusOQbboACeJxoH8SbEAlDsfovlZw_RCpaN6-Q8TmCreHthRYqSNhayNQrB7l460Sw7ONZThKQDbEjE3D7inVNl6MI6ua15mFJ9AN2eKFC1K8ZGL2Gu8V6Uq2nodELiGlcrKHYwme3tFA1sRymzMDduxqPf4IgutD26An76xyxfl1ImHBGJGl3VuSY7LcRSQ\", \"discovery_url\": \"https://cognito-idp.us-west-2.amazonaws.com/us-west-2_jQsMayVcr/.well-known/openid-configuration\", \"AuthParameters\": {\"USERNAME\": \"testuser\", \"PASSWORD\": \"MyPassword123!\"}}', 'VersionStages': ['AWSCURRENT'], 'CreatedDate': datetime.datetime(2025, 8, 28, 10, 3, 44, 560000, tzinfo=tzlocal()), 'ResponseMetadata': {'RequestId': 'd58bae28-01e1-4101-adb4-c114e7204ff8', 'HTTPStatusCode': 200, 'HTTPHeaders': {'x-amzn-requestid': 'd58bae28-01e1-4101-adb4-c114e7204ff8', 'content-type': 'application/x-amz-json-1.1', 'content-length': '1635', 'date': 'Thu, 28 Aug 2025 10:04:53 GMT'}, 'RetryAttempts': 0}}\n",
      "✓ Retrieved bearer token from Secrets Manager\n",
      "\n",
      "Connecting to: https://bedrock-agentcore.us-west-2.amazonaws.com/runtimes/arn%3Aaws%3Abedrock-agentcore%3Aus-west-2%3A887221633712%3Aruntime%2Fawssupportmcpserver-7ESps168I4/invocations?qualifier=DEFAULT\n",
      "Headers configured ✓\n",
      "\n",
      "🔄 Initializing MCP session...\n",
      "✓ MCP session initialized\n",
      "\n",
      "🔄 Listing available tools...\n",
      "\n",
      "📋 Available MCP Tools:\n",
      "==================================================\n",
      "🔧 create_support_case\n",
      "   Description: Create a new AWS Support case.\n",
      "\n",
      "## Usage Requirements\n",
      "- You must provide a clear subject and detailed communication body\n",
      "\n",
      "## Example\n",
      "```\n",
      "create_support_case(\n",
      "    subject='EC2 instance not starting',\n",
      "    service_code='amazon-elastic-compute-cloud-linux',\n",
      "    category_code='using-aws',\n",
      "    severity_code='urgent',\n",
      "    communication_body='My EC2 instance i-1234567890abcdef0 is not starting.',\n",
      ")\n",
      "```\n",
      "\n",
      "## Severity Level Guidelines\n",
      "- low (General guidance): You have a general development question or want to request a feature.\n",
      "- normal (System impaired): Non-critical functions are behaving abnormally or you have a time-sensitive development question.\n",
      "- high (Production system impaired): Important functions are impaired but a workaround exists.\n",
      "- urgent (Production system down): Your business is significantly impacted and no workaround exists.\n",
      "- critical (Business-critical system down): Your business is at risk and critical functions are unavailable.\n",
      "   Parameters: ['subject', 'service_code', 'category_code', 'severity_code', 'communication_body', 'cc_email_addresses', 'language', 'issue_type', 'attachment_set_id']\n",
      "\n",
      "🔧 describe_support_cases\n",
      "   Description: Retrieve information about support cases.\n",
      "\n",
      "## Usage\n",
      "- You can retrieve cases by ID, display ID, or date range\n",
      "- You can include or exclude resolved cases and communications\n",
      "- You can paginate through results using the next_token parameter\n",
      "\n",
      "## Example\n",
      "```\n",
      "describe_support_cases(\n",
      "    display_id=['175576570100549'], include_communications=True\n",
      ")\n",
      "describe_support_cases(\n",
      "    case_id_list=['case-12345678910-2013-c4c1d2bf33c5cf47'], include_communications=True\n",
      ")\n",
      "```\n",
      "\n",
      "## Date Format\n",
      "Dates should be provided in ISO 8601 format (e.g., \"2023-01-01T00:00:00Z\")\n",
      "\n",
      "## Response Format\n",
      "You can request the response in either JSON or Markdown format using the format parameter.\n",
      "   Parameters: ['case_id_list', 'display_id', 'after_time', 'before_time', 'include_resolved_cases', 'include_communications', 'language', 'max_results', 'next_token', 'format']\n",
      "\n",
      "🔧 describe_severity_levels\n",
      "   Description: Retrieve information about AWS Support severity levels. This tool provides details about the available severity levels for AWS Support cases, including their codes and descriptions.\n",
      "\n",
      "## Usage\n",
      "- You can request the response in either JSON or Markdown format.\n",
      "- Use this information to determine the appropriate severity level for creating support cases.\n",
      "- Use this information when crafting queries for Describe Cases.\n",
      "\n",
      "## Example\n",
      "```\n",
      "# Get severity levels in JSON format\n",
      "describe_severity_levels()\n",
      "\n",
      "# Get severity levels in Markdown format\n",
      "describe_severity_levels(format='markdown')\n",
      "```\n",
      "## Severity Level Guidelines\n",
      "- low (General guidance): You have a general development question or want to request a feature\n",
      "- normal (System impaired): Non-critical functions are behaving abnormally\n",
      "- high (Production system impaired): Important functions are impaired but a workaround exists\n",
      "- urgent (Production system down): Your business is significantly impacted; no workaround exists\n",
      "- critical (Business-critical system down): Your business is at risk; critical functions unavailable\n",
      "   Parameters: ['format']\n",
      "\n",
      "🔧 add_communication_to_case\n",
      "   Description: Add communication to a support case.\n",
      "\n",
      "## Usage\n",
      "- You must provide a valid case ID\n",
      "- You must provide a communication body\n",
      "- You can optionally CC email addresses on the communication\n",
      "- You can optionally attach files using an attachment set ID\n",
      "\n",
      "## Example\n",
      "```\n",
      "add_communication_to_case(\n",
      "    case_id='case-12345678910-2013-c4c1d2bf33c5cf47',\n",
      "    communication_body='Here is an update on my issue...',\n",
      ")\n",
      "```\n",
      "   Parameters: ['case_id', 'communication_body', 'cc_email_addresses', 'attachment_set_id']\n",
      "\n",
      "🔧 resolve_support_case\n",
      "   Description: Resolve a support case.\n",
      "\n",
      "## Usage\n",
      "- You must provide a valid case ID\n",
      "- The case must be in an open state to be resolved\n",
      "\n",
      "## Example\n",
      "```\n",
      "resolve_support_case(case_id='case-12345678910-2013-c4c1d2bf33c5cf47')\n",
      "```\n",
      "   Parameters: ['case_id']\n",
      "\n",
      "🔧 describe_services\n",
      "   Description: Retrieve information about AWS services available for support cases.\n",
      "\n",
      "This tool provides details about AWS services, including their service codes,\n",
      "names, and categories. Use this information when creating support cases to\n",
      "ensure you're using valid service and category codes.\n",
      "\n",
      "## Usage\n",
      "- You can optionally filter results by providing specific service codes\n",
      "- You can specify the language for the response\n",
      "- You can request the response in either JSON or Markdown format\n",
      "\n",
      "## Example\n",
      "```python\n",
      "# Get all services\n",
      "describe_services()\n",
      "\n",
      "# Get specific services\n",
      "describe_services(service_code_list=['amazon-elastic-compute-cloud-linux', 'amazon-s3'])\n",
      "\n",
      "# Get services in Japanese\n",
      "describe_services(language='ja')\n",
      "\n",
      "# Get services in Markdown format\n",
      "describe_services(format='markdown')\n",
      "```\n",
      "\n",
      "## Response Format\n",
      "The JSON response includes service codes, names, and their categories:\n",
      "```json\n",
      "{\n",
      "    \"amazon-elastic-compute-cloud-linux\": {\n",
      "        \"name\": \"Amazon Elastic Compute Cloud (Linux)\",\n",
      "        \"categories\": [\n",
      "            {\"code\": \"using-aws\", \"name\": \"Using AWS\"}\n",
      "        ]\n",
      "    }\n",
      "}\n",
      "```\n",
      "   Parameters: ['service_code_list', 'language', 'format']\n",
      "\n",
      "✅ Successfully connected to MCP server!\n",
      "Found 6 tools available.\n"
     ]
    }
   ],
   "source": [
    "print(\"Testing deployed MCP server...\")\n",
    "print(\"=\" * 50)\n",
    "!python my_mcp_client_remote.py"
   ]
  },
  {
   "cell_type": "markdown",
   "id": "9d2d032f-4dd1-48f2-a9a8-ba0f825bc35e",
   "metadata": {},
   "source": [
    "# create local agent which is able to invoke MCP Server\n",
    "# grant AWSSupportAccess to agentcore runtime "
   ]
  },
  {
   "cell_type": "code",
   "execution_count": 22,
   "id": "4bf6d052-47b2-4682-9394-44fee4bcb404",
   "metadata": {
    "execution": {
     "iopub.execute_input": "2025-08-28T10:14:08.290803Z",
     "iopub.status.busy": "2025-08-28T10:14:08.290506Z",
     "iopub.status.idle": "2025-08-28T10:14:08.297369Z",
     "shell.execute_reply": "2025-08-28T10:14:08.296818Z",
     "shell.execute_reply.started": "2025-08-28T10:14:08.290780Z"
    }
   },
   "outputs": [
    {
     "name": "stdout",
     "output_type": "stream",
     "text": [
      "Overwriting agent_invoke_mcp_tools_final.py\n"
     ]
    }
   ],
   "source": [
    "%%writefile agent_invoke_mcp_tools_final.py\n",
    "import asyncio\n",
    "import boto3\n",
    "import json\n",
    "import sys\n",
    "from strands import Agent\n",
    "from boto3.session import Session\n",
    "from datetime import timedelta\n",
    "from strands.tools.mcp import MCPClient\n",
    "\n",
    "from mcp import ClientSession\n",
    "from mcp.client.streamable_http import streamablehttp_client\n",
    "from datetime import datetime, timedelta, timezone\n",
    "\n",
    "def get_system_prompt() -> str:\n",
    "    \"\"\"\n",
    "    Return the full system prompt for the AWS Support Case Management Agent,\n",
    "    including dynamic current Beijing Time (UTC+8).\n",
    "    \"\"\"\n",
    "    # 获取当前北京时间\n",
    "    beijing_tz = timezone(timedelta(hours=8))\n",
    "    now_bj = datetime.now(beijing_tz)\n",
    "    current_time_str = now_bj.strftime(\"%Y-%m-%d %H:%M:%S %Z\")\n",
    "\n",
    "    # 定义 system prompt\n",
    "    system_prompt = f\"\"\"\n",
    "# AWS Support Case Management Agent - Cross-border E-commerce IT Support\n",
    "\n",
    "## Current Reference Time\n",
    "The current Beijing Time (UTC+8) is: **{current_time_str}**.\n",
    "- When the user mentions relative time ranges (e.g., \"last month\", \"yesterday\", \"过去一周\"), always calculate them based on this reference time.\n",
    "- Always assume the user's timezone is Beijing Time (UTC+8) unless explicitly stated otherwise.\n",
    "\n",
    "## Identity & Role\n",
    "You are an AWS Support Case Management Agent specialized in serving cross-border e-commerce IT teams. You have deep expertise in AWS services commonly used in e-commerce operations and understand the critical nature of e-commerce business continuity.\n",
    "\n",
    "## Language Preference\n",
    "- When interacting with the customer, always **prefer Chinese** for explanations and responses, unless the customer explicitly requests English.\n",
    "\n",
    "## Core Capabilities\n",
    "You can create, query, analyze, and provide strategic insights on AWS Support cases using the AWS Support MCP server. Your analysis focuses on business impact, operational efficiency, and proactive problem prevention for large-scale e-commerce operations.\n",
    "\n",
    "## Target User Profile\n",
    "- **Primary Users**: IT personnel at large-scale cross-border e-commerce companies\n",
    "- **Business Context**: High-volume, time-sensitive e-commerce operations with global reach\n",
    "- **Critical Requirements**: 24/7 availability, data security, compliance, and minimal downtime tolerance\n",
    "\n",
    "## Key Responsibilities\n",
    "1. **Case Creation & Management**: Create well-structured support cases with appropriate severity and business impact.\n",
    "2. **Intelligent Case Analysis**: Summarize, classify, and analyze cases by severity, service, and category.\n",
    "3. **Strategic Insights**: Provide best practices, preventive actions, and business impact assessments.\n",
    "4. **Escalation Guidance**: Identify critical cases that require urgent action or executive visibility.\n",
    "\n",
    "## E-commerce Specific Considerations\n",
    "- Prioritize cases affecting **payment systems, website performance, databases, and security**.\n",
    "- Pay special attention during **peak shopping seasons** and **flash sale events**.\n",
    "- Map case severity to business impact (Critical = revenue-stopping, High = degraded CX, etc.).\n",
    "\n",
    "## Output Guidelines\n",
    "- Always provide summaries with **executive overviews** + **detailed breakdowns**.\n",
    "- Highlight **critical cases** and **patterns**.\n",
    "- Provide **clear, actionable recommendations**.\n",
    "- Keep responses **concise, structured, and business-focused**.\n",
    "- Always connect technical issues to **business impact**.\n",
    "\n",
    "## Security & Compliance\n",
    "- Always consider PCI DSS, GDPR, and cross-border data compliance in analysis.\n",
    "- Treat payment and security-related cases as **highest priority**.\n",
    "\n",
    "Remember: Your primary goal is to help e-commerce IT teams maintain robust, secure, and high-performing AWS infrastructure that supports their business objectives while minimizing operational risks and maximizing customer satisfaction.\n",
    "\"\"\"\n",
    "    return system_prompt\n",
    "\n",
    "\n",
    "\n",
    "async def main():\n",
    "    boto_session = Session()\n",
    "    region = boto_session.region_name\n",
    "    \n",
    "    print(f\"Using AWS region: {region}\")\n",
    "    \n",
    "    try:\n",
    "        ssm_client = boto3.client('ssm', region_name=region)\n",
    "        agent_arn_response = ssm_client.get_parameter(Name='/support_mcp_server/runtime/agent_arn')\n",
    "        agent_arn = agent_arn_response['Parameter']['Value']\n",
    "        print(f\"Retrieved Agent ARN: {agent_arn}\")\n",
    "\n",
    "        secrets_client = boto3.client('secretsmanager', region_name=region)\n",
    "        response = secrets_client.get_secret_value(SecretId='support_mcp_server/cognito/credentials')\n",
    "        secret_value = response['SecretString']\n",
    "        parsed_secret = json.loads(secret_value)\n",
    "        bearer_token = parsed_secret['bearer_token']\n",
    "        print(\"✓ Retrieved bearer token from Secrets Manager\")\n",
    "        \n",
    "    except Exception as e:\n",
    "        print(f\"Error retrieving credentials: {e}\")\n",
    "        sys.exit(1)\n",
    "    \n",
    "    encoded_arn = agent_arn.replace(':', '%3A').replace('/', '%2F')\n",
    "    mcp_url = f\"https://bedrock-agentcore.{region}.amazonaws.com/runtimes/{encoded_arn}/invocations?qualifier=DEFAULT\"\n",
    "    headers = {\n",
    "        \"authorization\": f\"Bearer {bearer_token}\",\n",
    "        \"Content-Type\": \"application/json\"\n",
    "    }\n",
    "    \n",
    "    print(f\"\\nConnecting to: {mcp_url}\")\n",
    "\n",
    "    def create_streamable_http_transport():\n",
    "        return streamablehttp_client(mcp_url, headers, timeout=timedelta(seconds=120), terminate_on_close=False)\n",
    "    streamable_http_mcp_client = MCPClient(create_streamable_http_transport)\n",
    "\n",
    "    system_prompt = get_system_prompt()\n",
    "    \n",
    "    with streamable_http_mcp_client:\n",
    "        tools = streamable_http_mcp_client.list_tools_sync()\n",
    "        print(f\"tools list: {tools}\")\n",
    "        agent = Agent(\n",
    "            model=\"us.anthropic.claude-3-7-sonnet-20250219-v1:0\",\n",
    "            tools=tools,system_prompt=system_prompt)\n",
    "        response = str(agent(\"show me the case which severity is General guidance,and give me insight?\"))\n",
    "\n",
    "if __name__ == \"__main__\":\n",
    "    asyncio.run(main())"
   ]
  },
  {
   "cell_type": "code",
   "execution_count": 24,
   "id": "22cae058-52c1-405e-92eb-ba7f998facd8",
   "metadata": {
    "execution": {
     "iopub.execute_input": "2025-08-28T10:17:09.465433Z",
     "iopub.status.busy": "2025-08-28T10:17:09.465157Z",
     "iopub.status.idle": "2025-08-28T10:17:55.482533Z",
     "shell.execute_reply": "2025-08-28T10:17:55.481836Z",
     "shell.execute_reply.started": "2025-08-28T10:17:09.465410Z"
    }
   },
   "outputs": [
    {
     "name": "stdout",
     "output_type": "stream",
     "text": [
      "Testing MCP tool invocation from Agent...\n",
      "==================================================\n",
      "Using AWS region: us-west-2\n",
      "Retrieved Agent ARN: arn:aws:bedrock-agentcore:us-west-2:887221633712:runtime/awssupportmcpserver-7ESps168I4\n",
      "✓ Retrieved bearer token from Secrets Manager\n",
      "\n",
      "Connecting to: https://bedrock-agentcore.us-west-2.amazonaws.com/runtimes/arn%3Aaws%3Abedrock-agentcore%3Aus-west-2%3A887221633712%3Aruntime%2Fawssupportmcpserver-7ESps168I4/invocations?qualifier=DEFAULT\n",
      "tools list: [<strands.tools.mcp.mcp_agent_tool.MCPAgentTool object at 0x7febd734e210>, <strands.tools.mcp.mcp_agent_tool.MCPAgentTool object at 0x7febd64e1160>, <strands.tools.mcp.mcp_agent_tool.MCPAgentTool object at 0x7febd64e02c0>, <strands.tools.mcp.mcp_agent_tool.MCPAgentTool object at 0x7febd64e0860>, <strands.tools.mcp.mcp_agent_tool.MCPAgentTool object at 0x7febd64e1a00>, <strands.tools.mcp.mcp_agent_tool.MCPAgentTool object at 0x7febd64e19d0>]\n",
      "我需要为您查询严重程度为\"低级别\"(General guidance)的AWS支持案例。让我来帮您获取这些信息并提供相关分析。\n",
      "Tool #1: describe_severity_levels\n",
      "我了解了支持案例的严重程度级别。现在我来查询所有\"低级别\"(low/General guidance)严重程度的支持案例:\n",
      "Tool #2: describe_support_cases\n",
      "现在我来查询所有\"低级别\"(low/General guidance)严重程度的支持案例:\n",
      "Tool #3: describe_support_cases\n",
      "我需要再次尝试获取所有支持案例，查找严重程度为\"low\"的案例：\n",
      "Tool #4: describe_support_cases\n",
      "通过分析获取到的支持案例数据，我现在可以为您提供严重程度为\"low\"(General guidance)的AWS支持案例分析：\n",
      "\n",
      "## 低级别(General guidance)支持案例分析\n",
      "\n",
      "### 摘要概览\n",
      "\n",
      "我们发现有两个严重程度为\"低级别\"(low/General guidance)的支持案例：\n",
      "\n",
      "1. **案例编号**: case-887221633712-muen-2024-b93abbee4711f142\n",
      "   - **显示ID**: 171697252000121\n",
      "   - **标题**: test\n",
      "   - **状态**: 已解决\n",
      "   - **服务**: amazon-elastic-compute-cloud-linux\n",
      "   - **类别**: apis\n",
      "   - **创建时间**: 2024-05-29\n",
      "\n",
      "2. **案例编号**: case-887221633712-muen-2024-41ba6ef63431ecff\n",
      "   - **显示ID**: 171774909300176\n",
      "   - **标题**: [Amazon Q] Troubleshooting SSH connectivity and listing unused EIPs\n",
      "   - **状态**: 已解决\n",
      "   - **服务**: service-linux\n",
      "   - **类别**: feature-request\n",
      "   - **创建时间**: 2024-06-07\n",
      "\n",
      "### 详细分析\n",
      "\n",
      "#### 案例一：测试案例 (171697252000121)\n",
      "这是一个简单的测试案例，内容非常简短，仅包含\"test\"文字。AWS支持工程师Pankhuri已确认这是测试案例并标记为已解决。该案例没有实质性的技术问题，仅用于测试AWS支持流程。\n",
      "\n",
      "#### 案例二：Amazon Q问题排查案例 (171774909300176)\n",
      "此案例是通过Amazon Q工具创建的，涉及多个技术问题的咨询：\n",
      "1. SSH连接问题排查\n",
      "2. 使用AWS CLI列出未使用的弹性IP地址\n",
      "3. 查询m6i.4xlarge实例的IOPS限制\n",
      "4. EC2实例连接问题\n",
      "5. 区域内EC2实例数量查询\n",
      "\n",
      "案例中包含与Amazon Q的完整对话记录，并且已被快速解决和关闭。\n",
      "\n",
      "### 商业洞见与建议\n",
      "\n",
      "1. **技能提升建议**：\n",
      "   - 两个低级别案例都显示团队在使用AWS CLI和实例管理方面可能需要更多培训。特别是第二个案例中涉及的SSH连接问题和未使用资源管理，这些是常见的运维挑战。\n",
      "   - 建议为团队提供关于EC2实例管理、网络连接排障和AWS CLI使用的培训。\n",
      "\n",
      "2. **资源优化机会**：\n",
      "   - 案例二中查询未使用的弹性IP(EIP)表明团队可能正在尝试优化资源使用。未使用的弹性IP会产生额外费用，应定期检查并释放。\n",
      "   - 建议实施自动化脚本定期检查并报告未使用的弹性IP和其他资源。\n",
      "\n",
      "3. **故障排除流程改进**：\n",
      "   - SSH连接问题是跨境电商IT运维中的常见问题，可能会影响应用程序管理和问题排查效率。\n",
      "   - 建议建立标准化的SSH连接问题排查流程和文档，减少对AWS支持的依赖。\n",
      "\n",
      "4. **Amazon Q的有效使用**：\n",
      "   - 案例二表明团队开始使用Amazon Q进行初步问题排查，这是个良好的趋势。\n",
      "   - 建议进一步推广Amazon Q作为一线支持工具，可以减少创建正式支持案例的需求。\n",
      "\n",
      "### 总体评估\n",
      "\n",
      "这两个低级别支持案例表明：\n",
      "1. 团队正在积极学习和使用AWS服务与工具\n",
      "2. 存在提高团队AWS基础技能的机会\n",
      "3. 团队已开始使用Amazon Q等工具进行自助服务\n",
      "\n",
      "与其他高严重度案例相比，这些低级别案例不会直接影响业务运营，但代表了提高团队效率和降低长期运营成本的机会。建议定期进行AWS技能培训，特别是在资源管理和故障排除方面，以减少对AWS支持的依赖。\n",
      "\n",
      "您是否需要更详细的信息或对这些案例的其他方面进行分析？或者您对其他级别的支持案例也有兴趣了解？"
     ]
    }
   ],
   "source": [
    "print(\"Testing MCP tool invocation from Agent...\")\n",
    "print(\"=\" * 50)\n",
    "!python agent_invoke_mcp_tools_final.py"
   ]
  },
  {
   "cell_type": "code",
   "execution_count": null,
   "id": "0a456771-a71d-4ca1-ab3d-dcf5e57a4685",
   "metadata": {},
   "outputs": [],
   "source": []
  }
 ],
 "metadata": {
  "kernelspec": {
   "display_name": "Python 3 (ipykernel)",
   "language": "python",
   "name": "python3"
  },
  "language_info": {
   "codemirror_mode": {
    "name": "ipython",
    "version": 3
   },
   "file_extension": ".py",
   "mimetype": "text/x-python",
   "name": "python",
   "nbconvert_exporter": "python",
   "pygments_lexer": "ipython3",
   "version": "3.12.9"
  }
 },
 "nbformat": 4,
 "nbformat_minor": 5
}
