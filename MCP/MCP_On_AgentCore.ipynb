{
 "cells": [
  {
   "cell_type": "code",
   "execution_count": null,
   "id": "394730c3-f2bf-4a72-a40a-9f7a6f863f23",
   "metadata": {},
   "outputs": [],
   "source": [
    "!pip install --force-reinstall -U -r requirements.txt --quiet"
   ]
  },
  {
   "cell_type": "markdown",
   "id": "b76f3399-f6ab-46f0-8cb5-062331b6bba4",
   "metadata": {},
   "source": [
    "# setup cognito for authentication"
   ]
  },
  {
   "cell_type": "code",
   "execution_count": null,
   "id": "c2e259d4-9586-4fef-b300-73bb52b9caad",
   "metadata": {},
   "outputs": [],
   "source": [
    "from utils import setup_cognito_user_pool"
   ]
  },
  {
   "cell_type": "code",
   "execution_count": null,
   "id": "37caecb1-6bcd-4557-8f56-950b80a3dce7",
   "metadata": {},
   "outputs": [],
   "source": [
    "print(\"Setting up Amazon Cognito user pool...\")\n",
    "cognito_config = setup_cognito_user_pool()\n",
    "print(\"Cognito setup completed ✓\")\n",
    "print(cognito_config)"
   ]
  },
  {
   "cell_type": "markdown",
   "id": "eed4feea-bce7-42ed-91c3-f5f401a651c9",
   "metadata": {},
   "source": [
    "# config agentcore runtime hosting MCP server"
   ]
  },
  {
   "cell_type": "code",
   "execution_count": null,
   "id": "1d26e236-cd4f-40e6-a2b9-df9d5a3c6b27",
   "metadata": {},
   "outputs": [],
   "source": [
    "from bedrock_agentcore_starter_toolkit import Runtime\n",
    "from boto3.session import Session\n",
    "import time\n",
    "import os\n",
    "\n",
    "boto_session = Session()\n",
    "region = boto_session.region_name\n",
    "print(f\"Using AWS region: {region}\")\n",
    "\n",
    "required_files = ['awslabs/aws_support_mcp_server/server.py', 'requirements.txt']\n",
    "for file in required_files:\n",
    "    print({file})\n",
    "    if not os.path.exists(file):\n",
    "        raise FileNotFoundError(f\"Required file {file} not found\")\n",
    "print(\"All required files found ✓\")\n",
    "\n",
    "agentcore_runtime = Runtime()\n",
    "\n",
    "auth_config = {\n",
    "    \"customJWTAuthorizer\": {\n",
    "        \"allowedClients\": [\n",
    "            cognito_config['client_id']\n",
    "        ],\n",
    "        \"discoveryUrl\": cognito_config['discovery_url'],\n",
    "    }\n",
    "}\n",
    "\n",
    "print(\"Configuring AgentCore Runtime...\")\n",
    "response = agentcore_runtime.configure(\n",
    "    entrypoint=\"awslabs/aws_support_mcp_server/server.py\",\n",
    "    auto_create_execution_role=True,\n",
    "    auto_create_ecr=True,\n",
    "    requirements_file=\"requirements.txt\",\n",
    "    region=region,\n",
    "    authorizer_configuration=auth_config,\n",
    "    protocol=\"MCP\",\n",
    "    agent_name=\"awssupportmcpserver\"\n",
    ")\n",
    "print(\"Configuration completed ✓\")"
   ]
  },
  {
   "cell_type": "code",
   "execution_count": null,
   "id": "79bc1b2b-a9f8-4249-9ea2-6d469829d252",
   "metadata": {},
   "outputs": [],
   "source": [
    "# launch agentcore runtime"
   ]
  },
  {
   "cell_type": "code",
   "execution_count": null,
   "id": "987f9940-5583-4c1e-a541-d58e9b758ace",
   "metadata": {},
   "outputs": [],
   "source": [
    "print(\"Launching MCP server to AgentCore Runtime...\")\n",
    "print(\"This may take several minutes...\")\n",
    "launch_result = agentcore_runtime.launch()\n",
    "print(\"Launch completed ✓\")\n",
    "print(f\"Agent ARN: {launch_result.agent_arn}\")\n",
    "print(f\"Agent ID: {launch_result.agent_id}\")"
   ]
  },
  {
   "cell_type": "code",
   "execution_count": null,
   "id": "766e6347-9b91-4328-b1f8-82d63ae49d17",
   "metadata": {},
   "outputs": [],
   "source": [
    "# check agentcore status"
   ]
  },
  {
   "cell_type": "code",
   "execution_count": null,
   "id": "b7ff864d-bbd8-4a52-b62c-72626af49188",
   "metadata": {},
   "outputs": [],
   "source": [
    "print(\"Checking AgentCore Runtime status...\")\n",
    "status_response = agentcore_runtime.status()\n",
    "status = status_response.endpoint['status']\n",
    "print(f\"Initial status: {status}\")\n",
    "\n",
    "end_status = ['READY', 'CREATE_FAILED', 'DELETE_FAILED', 'UPDATE_FAILED']\n",
    "while status not in end_status:\n",
    "    print(f\"Status: {status} - waiting...\")\n",
    "    time.sleep(10)\n",
    "    status_response = agentcore_runtime.status()\n",
    "    status = status_response.endpoint['status']\n",
    "\n",
    "if status == 'READY':\n",
    "    print(\"✓ AgentCore Runtime is READY!\")\n",
    "else:\n",
    "    print(f\"⚠ AgentCore Runtime status: {status}\")\n",
    "    \n",
    "print(f\"Final status: {status}\")"
   ]
  },
  {
   "cell_type": "code",
   "execution_count": null,
   "id": "304be20e-7adb-4a50-a2f0-fed2b469f970",
   "metadata": {},
   "outputs": [],
   "source": [
    "# upload cognito token and data to secret and ssm"
   ]
  },
  {
   "cell_type": "code",
   "execution_count": null,
   "id": "d6779693-6f01-4020-9161-d7680212af16",
   "metadata": {},
   "outputs": [],
   "source": [
    "import boto3\n",
    "import json\n",
    "\n",
    "ssm_client = boto3.client('ssm', region_name=region)\n",
    "secrets_client = boto3.client('secretsmanager', region_name=region)\n",
    "\n",
    "try:\n",
    "    cognito_credentials_response = secrets_client.create_secret(\n",
    "        Name='support_mcp_server/cognito/credentials',\n",
    "        Description='Cognito credentials for MCP server',\n",
    "        SecretString=json.dumps(cognito_config)\n",
    "    )\n",
    "    print(\"✓ Cognito credentials stored in Secrets Manager\")\n",
    "except secrets_client.exceptions.ResourceExistsException:\n",
    "    secrets_client.update_secret(\n",
    "        SecretId='support_mcp_server/cognito/credentials',\n",
    "        SecretString=json.dumps(cognito_config)\n",
    "    )\n",
    "    print(\"✓ Cognito credentials updated in Secrets Manager\")\n",
    "\n",
    "agent_arn_response = ssm_client.put_parameter(\n",
    "    Name='/support_mcp_server/runtime/agent_arn',\n",
    "    Value=launch_result.agent_arn,\n",
    "    Type='String',\n",
    "    Description='Agent ARN for MCP server',\n",
    "    Overwrite=True\n",
    ")\n",
    "print(\"✓ Agent ARN stored in Parameter Store\")\n",
    "\n",
    "print(\"\\nConfiguration stored successfully!\")\n",
    "print(f\"Agent ARN: {launch_result.agent_arn}\")"
   ]
  },
  {
   "cell_type": "code",
   "execution_count": null,
   "id": "ebce9d69-d5b8-498f-a0ac-df4443b3e7f2",
   "metadata": {},
   "outputs": [],
   "source": [
    "#Now the MCP Sever has been deployed on AgentCore Runtime"
   ]
  },
  {
   "cell_type": "code",
   "execution_count": null,
   "id": "2af6ce28-9727-4c52-9cd8-e9b2c0e76a6b",
   "metadata": {},
   "outputs": [],
   "source": [
    "# Let test list MCP tools directly"
   ]
  },
  {
   "cell_type": "code",
   "execution_count": null,
   "id": "e4bb1c1c-0006-40ef-a393-edefb0f772ce",
   "metadata": {},
   "outputs": [],
   "source": [
    "%%writefile my_mcp_client_remote.py\n",
    "import asyncio\n",
    "import boto3\n",
    "import json\n",
    "import sys\n",
    "from boto3.session import Session\n",
    "from datetime import timedelta\n",
    "\n",
    "from mcp import ClientSession\n",
    "from mcp.client.streamable_http import streamablehttp_client\n",
    "\n",
    "async def main():\n",
    "    boto_session = Session()\n",
    "    region = boto_session.region_name\n",
    "    \n",
    "    print(f\"Using AWS region: {region}\")\n",
    "    \n",
    "    try:\n",
    "        ssm_client = boto3.client('ssm', region_name=region)\n",
    "        agent_arn_response = ssm_client.get_parameter(Name='/support_mcp_server/runtime/agent_arn')\n",
    "        agent_arn = agent_arn_response['Parameter']['Value']\n",
    "        print(f\"Retrieved Agent ARN: {agent_arn}\")\n",
    "\n",
    "        secrets_client = boto3.client('secretsmanager', region_name=region)\n",
    "        response = secrets_client.get_secret_value(SecretId='support_mcp_server/cognito/credentials')\n",
    "        print(response)\n",
    "        secret_value = response['SecretString']\n",
    "        parsed_secret = json.loads(secret_value)\n",
    "        bearer_token = parsed_secret['bearer_token']\n",
    "        print(\"✓ Retrieved bearer token from Secrets Manager\")\n",
    "        \n",
    "    except Exception as e:\n",
    "        print(f\"Error retrieving credentials: {e}\")\n",
    "        sys.exit(1)\n",
    "    \n",
    "    if not agent_arn or not bearer_token:\n",
    "        print(\"Error: AGENT_ARN or BEARER_TOKEN not retrieved properly\")\n",
    "        sys.exit(1)\n",
    "    \n",
    "    encoded_arn = agent_arn.replace(':', '%3A').replace('/', '%2F')\n",
    "    mcp_url = f\"https://bedrock-agentcore.{region}.amazonaws.com/runtimes/{encoded_arn}/invocations?qualifier=DEFAULT\"\n",
    "    headers = {\n",
    "        \"authorization\": f\"Bearer {bearer_token}\",\n",
    "        \"Content-Type\": \"application/json\"\n",
    "    }\n",
    "    \n",
    "    print(f\"\\nConnecting to: {mcp_url}\")\n",
    "    print(\"Headers configured ✓\")\n",
    "\n",
    "    try:\n",
    "        async with streamablehttp_client(mcp_url, headers, timeout=timedelta(seconds=120), terminate_on_close=False) as (\n",
    "            read_stream,\n",
    "            write_stream,\n",
    "            _,\n",
    "        ):\n",
    "            async with ClientSession(read_stream, write_stream) as session:\n",
    "                print(\"\\n🔄 Initializing MCP session...\")\n",
    "                await session.initialize()\n",
    "                print(\"✓ MCP session initialized\")\n",
    "                \n",
    "                print(\"\\n🔄 Listing available tools...\")\n",
    "                tool_result = await session.list_tools()\n",
    "                \n",
    "                print(\"\\n📋 Available MCP Tools:\")\n",
    "                print(\"=\" * 50)\n",
    "                for tool in tool_result.tools:\n",
    "                    print(f\"🔧 {tool.name}\")\n",
    "                    print(f\"   Description: {tool.description}\")\n",
    "                    if hasattr(tool, 'inputSchema') and tool.inputSchema:\n",
    "                        properties = tool.inputSchema.get('properties', {})\n",
    "                        if properties:\n",
    "                            print(f\"   Parameters: {list(properties.keys())}\")\n",
    "                    print()\n",
    "                \n",
    "                print(f\"✅ Successfully connected to MCP server!\")\n",
    "                print(f\"Found {len(tool_result.tools)} tools available.\")\n",
    "                \n",
    "    except Exception as e:\n",
    "        print(f\"❌ Error connecting to MCP server: {e}\")\n",
    "        sys.exit(1)\n",
    "\n",
    "if __name__ == \"__main__\":\n",
    "    asyncio.run(main())"
   ]
  },
  {
   "cell_type": "code",
   "execution_count": null,
   "id": "59a77e1a-37af-4e22-961c-21e5e192a153",
   "metadata": {},
   "outputs": [],
   "source": []
  }
 ],
 "metadata": {
  "kernelspec": {
   "display_name": "Python 3 (ipykernel)",
   "language": "python",
   "name": "python3"
  },
  "language_info": {
   "codemirror_mode": {
    "name": "ipython",
    "version": 3
   },
   "file_extension": ".py",
   "mimetype": "text/x-python",
   "name": "python",
   "nbconvert_exporter": "python",
   "pygments_lexer": "ipython3",
   "version": "3.12.9"
  }
 },
 "nbformat": 4,
 "nbformat_minor": 5
}
