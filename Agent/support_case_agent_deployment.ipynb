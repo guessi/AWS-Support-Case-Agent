{
 "cells": [
  {
   "cell_type": "markdown",
   "id": "6f255737-ef98-4942-8ec3-e727c7053977",
   "metadata": {},
   "source": [
    "# Agent Deployment on AgentCore Runtime\n",
    "\n",
    "## 1. Environment Setup\n",
    "\n",
    "### 1.1 Load Configuration Variables"
   ]
  },
  {
   "cell_type": "code",
   "execution_count": null,
   "id": "d97d3948",
   "metadata": {},
   "outputs": [],
   "source": [
    "from config import (\n",
    "    SECRETS_NAME, PARAMETER_NAME\n",
    ")\n",
    "\n",
    "print(f\"✅ SECRET_ID: {SECRETS_NAME}\")\n",
    "print(f\"✅ SSM_AGENT_ARN_PARAM: {PARAMETER_NAME}\")"
   ]
  },
  {
   "cell_type": "markdown",
   "id": "26b2604a-08c1-47a0-92af-900a84cacd3c",
   "metadata": {},
   "source": [
    "### 1.2 Check Required Files"
   ]
  },
  {
   "cell_type": "code",
   "execution_count": null,
   "id": "4b720c62-d4e5-4aa1-a163-2e0f46453b65",
   "metadata": {},
   "outputs": [],
   "source": [
    "import os\n",
    "\n",
    "required_files = [\n",
    "    'support_case_agent.py',\n",
    "    'requirements.txt',\n",
    "]\n",
    "\n",
    "try:\n",
    "    for file in required_files:\n",
    "        print(f\"Checking: {file}\")\n",
    "\n",
    "        if not os.path.exists(file):\n",
    "            raise FileNotFoundError(f\"Required file {file} not found\")\n",
    "\n",
    "    print(\"✅ All required files found\")\n",
    "except FileNotFoundError as e:\n",
    "    print(f\"❌ {e}\")\n",
    "    raise"
   ]
  },
  {
   "cell_type": "markdown",
   "id": "09588d70-661a-4aaa-b5a4-ad7614cc2eb2",
   "metadata": {},
   "source": [
    "## 2. AgentCore Runtime Configuration\n",
    "\n",
    "### 2.1 Initialize AgentCore Runtime"
   ]
  },
  {
   "cell_type": "code",
   "execution_count": null,
   "id": "step2-code",
   "metadata": {},
   "outputs": [],
   "source": [
    "from bedrock_agentcore_starter_toolkit import Runtime\n",
    "from boto3.session import Session\n",
    "\n",
    "boto_session = Session()\n",
    "region = boto_session.region_name\n",
    "print(f\"✅ Using AWS region: {region}\")\n",
    "\n",
    "agentcore_runtime = Runtime()\n",
    "print(\"✅ AgentCore Runtime initialized\")"
   ]
  },
  {
   "cell_type": "markdown",
   "id": "step3-markdown",
   "metadata": {},
   "source": [
    "### 2.2 Create IAM Execution Role"
   ]
  },
  {
   "cell_type": "code",
   "execution_count": null,
   "id": "step4-code",
   "metadata": {},
   "outputs": [],
   "source": [
    "from aws_setup import get_or_create_role\n",
    "from config import AGENT_NAME\n",
    "\n",
    "print(\"Getting or creating IAM role...\")\n",
    "execution_role_arn = get_or_create_role(AGENT_NAME)\n",
    "print(f\"✅ Using role: {execution_role_arn}\")"
   ]
  },
  {
   "cell_type": "markdown",
   "id": "step5-markdown",
   "metadata": {},
   "source": [
    "### 2.3 Configure Agent"
   ]
  },
  {
   "cell_type": "markdown",
   "id": "edfe165e",
   "metadata": {},
   "source": [
    "## 修改support_case_agent.py，同样修改SECRET_ID和SSM_AGENT_ARN_PARAM变量与MCP中的SECRETS_NAME和SECRETS_NAME保持一致"
   ]
  },
  {
   "cell_type": "code",
   "execution_count": null,
   "id": "160f2bb5-d5b4-4120-8e1a-3d17d806a772",
   "metadata": {},
   "outputs": [],
   "source": [
    "from config import AGENT_NAME\n",
    "\n",
    "print(\"Configuring AgentCore Runtime...\")\n",
    "response = agentcore_runtime.configure(\n",
    "    entrypoint=\"support_case_agent.py\",\n",
    "    execution_role=execution_role_arn,\n",
    "    auto_create_ecr=True,\n",
    "    requirements_file=\"requirements.txt\",\n",
    "    region=region,\n",
    "    agent_name=AGENT_NAME\n",
    ")\n",
    "print(\"✅ Configuration completed\")\n",
    "print(f\"Response: {response}\")"
   ]
  },
  {
   "cell_type": "markdown",
   "id": "fb280a96-30aa-4c10-9d6f-79d36e0ac94c",
   "metadata": {},
   "source": [
    "## 3. Agent Deployment\n",
    "\n",
    "### 3.1 Start Runtime"
   ]
  },
  {
   "cell_type": "code",
   "execution_count": null,
   "id": "8e500aa0-d451-4c59-94ca-cdf3073d26de",
   "metadata": {},
   "outputs": [],
   "source": [
    "msg = \"Launching Agent to AgentCore Runtime (This might take several minutes...)\"\n",
    "print(msg)\n",
    "launch_result = agentcore_runtime.launch(auto_update_on_conflict=True)\n",
    "print(\"✅ Launch completed\")\n",
    "\n",
    "print(f\"Agent ARN: {launch_result.agent_arn}\")\n",
    "print(f\"Agent ID: {launch_result.agent_id}\")"
   ]
  },
  {
   "cell_type": "markdown",
   "id": "9a2e1dec-bc2b-4ff5-9618-01a01d41807e",
   "metadata": {},
   "source": [
    "### 3.2 Check Runtime Status"
   ]
  },
  {
   "cell_type": "code",
   "execution_count": null,
   "id": "32ec7765-7516-4145-8d2c-69881df2fc22",
   "metadata": {},
   "outputs": [],
   "source": [
    "import time\n",
    "\n",
    "print(\"Checking AgentCore Runtime status...\")\n",
    "status_response = agentcore_runtime.status()\n",
    "status = status_response.endpoint['status']\n",
    "print(f\"Initial status: {status}\")\n",
    "\n",
    "end_status = ['READY', 'CREATE_FAILED', 'DELETE_FAILED', 'UPDATE_FAILED']\n",
    "max_wait_time = 1800  # 30 minutes\n",
    "wait_time = 0\n",
    "\n",
    "while status not in end_status and wait_time < max_wait_time:\n",
    "    msg = f\"Status: {status} - waiting... ({wait_time}s/{max_wait_time}s)\"\n",
    "    print(msg)\n",
    "    time.sleep(10)\n",
    "    wait_time += 10\n",
    "\n",
    "    status_response = agentcore_runtime.status()\n",
    "    status = status_response.endpoint['status']\n",
    "\n",
    "if wait_time >= max_wait_time:\n",
    "    print(f\"⚠️ Timeout reached. Current status: {status}\")\n",
    "elif status == 'READY':\n",
    "    print(f\"✅ AgentCore Runtime is READY!\")\n",
    "else:\n",
    "    print(f\"⚠️ AgentCore Runtime status: {status}\")\n",
    "\n",
    "print(f\"Final status: {status}\")"
   ]
  },
  {
   "cell_type": "markdown",
   "id": "e3794f81-38dd-4f1d-9922-d648669eb217",
   "metadata": {},
   "source": [
    "## ✅ Deployment Complete\n",
    "\n",
    "The Agent has been successfully deployed on AgentCore Runtime with all required permissions."
   ]
  },
  {
   "cell_type": "markdown",
   "id": "9f5dab1f-7ab6-4e12-9fb8-0803ed7b2519",
   "metadata": {},
   "source": [
    "## 4. Test & Validate\n",
    "\n",
    "### 4.1 Test Support Case Agent"
   ]
  },
  {
   "cell_type": "code",
   "execution_count": null,
   "id": "e65ed3fd-14c7-4e21-8f8b-82afa2ccd0ca",
   "metadata": {},
   "outputs": [],
   "source": [
    "from support_case_agent_test import test_support_case_agent\n",
    "\n",
    "# Test the deployed support case agent\\n\n",
    "test_support_case_agent()"
   ]
  }
 ],
 "metadata": {
  "kernelspec": {
   "display_name": "3.13.7",
   "language": "python",
   "name": "python3"
  },
  "language_info": {
   "codemirror_mode": {
    "name": "ipython",
    "version": 3
   },
   "file_extension": ".py",
   "mimetype": "text/x-python",
   "name": "python",
   "nbconvert_exporter": "python",
   "pygments_lexer": "ipython3",
   "version": "3.13.7"
  }
 },
 "nbformat": 4,
 "nbformat_minor": 5
}
